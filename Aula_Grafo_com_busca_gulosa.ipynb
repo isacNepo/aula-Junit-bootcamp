{
  "nbformat": 4,
  "nbformat_minor": 0,
  "metadata": {
    "colab": {
      "name": "Aula - Grafo com busca gulosa.ipynb",
      "provenance": [],
      "authorship_tag": "ABX9TyNKt7nMzKaFWDYxGMWn1907",
      "include_colab_link": true
    },
    "kernelspec": {
      "name": "python3",
      "display_name": "Python 3"
    },
    "language_info": {
      "name": "python"
    }
  },
  "cells": [
    {
      "cell_type": "markdown",
      "metadata": {
        "id": "view-in-github",
        "colab_type": "text"
      },
      "source": [
        "<a href=\"https://colab.research.google.com/github/isacNepo/aula-Junit-bootcamp/blob/master/Aula_Grafo_com_busca_gulosa.ipynb\" target=\"_parent\"><img src=\"https://colab.research.google.com/assets/colab-badge.svg\" alt=\"Open In Colab\"/></a>"
      ]
    },
    {
      "cell_type": "markdown",
      "source": [
        "# Grafo - Busca Gulosa"
      ],
      "metadata": {
        "id": "Fm9EqA5agNNK"
      }
    },
    {
      "cell_type": "markdown",
      "source": [
        "## Grafo"
      ],
      "metadata": {
        "id": "ty_yzPYMgW_b"
      }
    },
    {
      "cell_type": "code",
      "source": [
        "class Vertice:\n",
        "\n",
        "  def __init__(self, rotulo, distancia_objetivo):\n",
        "    self.rotulo = rotulo\n",
        "    self.visitado = False\n",
        "    self.distancia_objetivo = distancia_objetivo\n",
        "    self.adjacentes = []\n",
        "\n",
        "  def adiciona_adjacentes(self, adjacente):\n",
        "    self.adjacentes.append(adjacente)  \n",
        "\n",
        "  def mostra_adjacentes(self):\n",
        "      for i in self.adjacentes:\n",
        "        print(f'{i.vertice.rotulo} -> {i.custo}')"
      ],
      "metadata": {
        "id": "upwNIIkCgZRj"
      },
      "execution_count": null,
      "outputs": []
    },
    {
      "cell_type": "code",
      "source": [
        "class Adjacente:\n",
        " \n",
        "  def _init__(self, vertice, custo):\n",
        "    self.vertice = vertice\n",
        "    self.custo = custo"
      ],
      "metadata": {
        "id": "-LJN3Zuvg57T"
      },
      "execution_count": null,
      "outputs": []
    },
    {
      "cell_type": "code",
      "source": [
        "class Grafo:\n",
        "\n",
        "  "
      ],
      "metadata": {
        "id": "0ZwRuiUSkFXT"
      },
      "execution_count": null,
      "outputs": []
    }
  ]
}