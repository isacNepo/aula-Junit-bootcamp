{
  "nbformat": 4,
  "nbformat_minor": 0,
  "metadata": {
    "colab": {
      "name": "Aula-Vetores Ordenados.ipynb",
      "provenance": [],
      "collapsed_sections": [],
      "authorship_tag": "ABX9TyP+RPG21kEhMtMVQ4RNHOpm",
      "include_colab_link": true
    },
    "kernelspec": {
      "name": "python3",
      "display_name": "Python 3"
    },
    "language_info": {
      "name": "python"
    }
  },
  "cells": [
    {
      "cell_type": "markdown",
      "metadata": {
        "id": "view-in-github",
        "colab_type": "text"
      },
      "source": [
        "<a href=\"https://colab.research.google.com/github/isacNepo/aula-Junit-bootcamp/blob/master/Aula_Vetores_Ordenados.ipynb\" target=\"_parent\"><img src=\"https://colab.research.google.com/assets/colab-badge.svg\" alt=\"Open In Colab\"/></a>"
      ]
    },
    {
      "cell_type": "markdown",
      "source": [
        "# Vetor ordenado"
      ],
      "metadata": {
        "id": "g0Cf-3QwdKnl"
      }
    },
    {
      "cell_type": "code",
      "source": [
        "import numpy as np;"
      ],
      "metadata": {
        "id": "_STgA-_DdP6s"
      },
      "execution_count": 36,
      "outputs": []
    },
    {
      "cell_type": "code",
      "source": [
        "class VetorOrdenado:\n",
        " \n",
        "  def __init__(vetor, capacidade):\n",
        "    vetor.capacidade = capacidade\n",
        "    vetor.ultima_posicao = -1\n",
        "    vetor.valores = np.empty(vetor.capacidade, dtype=int)\n",
        " \n",
        "  def imprime(vetor):\n",
        "    if vetor.ultima_posicao == -1:\n",
        "      print('O vetor está vazio')\n",
        "    else:\n",
        "      for i in range(vetor.ultima_posicao + 1):\n",
        "        print('[{}] -> {}'.format(i, vetor.valores[i]))\n",
        " \n",
        "  def insere(vetor, valor):\n",
        "    if vetor.ultima_posicao == vetor.capacidade - 1:\n",
        "      print('Capacidade máxima atingida')\n",
        "      return\n",
        " \n",
        "    posicao = 0\n",
        "    for i in range(vetor.ultima_posicao + 1):\n",
        "      posicao = i\n",
        "      if vetor.valores[i] > valor:\n",
        "        break\n",
        "      if i == vetor.ultima_posicao:\n",
        "        posicao = i + 1\n",
        " \n",
        "    x = vetor.ultima_posicao\n",
        "    while x >= posicao:\n",
        "      vetor.valores[x + 1] = vetor.valores[x]\n",
        "      x -= 1\n",
        " \n",
        "    vetor.valores[posicao] = valor\n",
        "    vetor.ultima_posicao += 1\n",
        " \n",
        "  def pesquisa_linear(vetor, valor):\n",
        "    for i in range(vetor.ultima_posicao + 1):\n",
        "      if vetor.valores[i] > valor:\n",
        "        return -1\n",
        "      if vetor.valores[i] == valor:\n",
        "        return i\n",
        "      if i == vetor.ultima_posicao:\n",
        "        return -1\n",
        "\n",
        "  def pesquisa_binaria(vetor, valor):\n",
        "    limite_inferior = 0 \n",
        "    limite_superior = vetor.ultima_posicao\n",
        "\n",
        "    while True:\n",
        "      posicao_atual = int((limite_inferior + limite_superior) / 2)\n",
        "      if vetor.valores[posicao_atual] == valor:\n",
        "        return posicao_atual\n",
        "      elif limite_inferior > limite_superior:\n",
        "        return -1\n",
        "      else:\n",
        "        if vetor.valores[posicao_atual] < valor:\n",
        "          limite_inferior = posicao_atual + 1 \n",
        "        else:\n",
        "          limite_superior = posicao_atual - 1\n",
        "\n",
        "  def excluir(vetor, valor):\n",
        "    posicao = vetor.pesquisa_binaria(valor)\n",
        "    if posicao == -1:\n",
        "      return -1\n",
        "    else:\n",
        "      for i in range(posicao, vetor.ultima_posicao):\n",
        "        vetor.valores[i] = vetor.valores[i + 1]\n",
        "\n",
        "      vetor.ultima_posicao -= 1                   "
      ],
      "metadata": {
        "id": "6TREUx2gdZmr"
      },
      "execution_count": 37,
      "outputs": []
    },
    {
      "cell_type": "markdown",
      "source": [
        "## Testes\n"
      ],
      "metadata": {
        "id": "l6Rry2ONgv_l"
      }
    },
    {
      "cell_type": "code",
      "source": [
        "vetor = VetorOrdenado(10)\n",
        "vetor.imprime()"
      ],
      "metadata": {
        "colab": {
          "base_uri": "https://localhost:8080/"
        },
        "id": "WXx5GL1Bgyjc",
        "outputId": "31e0d828-baa9-4c6a-cfb0-d94bca7ec2f2"
      },
      "execution_count": 38,
      "outputs": [
        {
          "output_type": "stream",
          "name": "stdout",
          "text": [
            "O vetor está vazio\n"
          ]
        }
      ]
    },
    {
      "cell_type": "code",
      "source": [
        "vetor.insere(7)\n",
        "vetor.imprime()"
      ],
      "metadata": {
        "colab": {
          "base_uri": "https://localhost:8080/"
        },
        "id": "eBq336GshUlM",
        "outputId": "622c071b-5f96-4533-c400-524c9f67cb9c"
      },
      "execution_count": 39,
      "outputs": [
        {
          "output_type": "stream",
          "name": "stdout",
          "text": [
            "[0] -> 7\n"
          ]
        }
      ]
    },
    {
      "cell_type": "code",
      "source": [
        "vetor.insere(37)\n",
        "vetor.imprime()"
      ],
      "metadata": {
        "colab": {
          "base_uri": "https://localhost:8080/"
        },
        "id": "FOyYtSbPhwe-",
        "outputId": "d2b1e4c3-16fb-44db-bad3-1230f97c638e"
      },
      "execution_count": 40,
      "outputs": [
        {
          "output_type": "stream",
          "name": "stdout",
          "text": [
            "[0] -> 7\n",
            "[1] -> 37\n"
          ]
        }
      ]
    },
    {
      "cell_type": "code",
      "source": [
        "vetor.insere(4)\n",
        "vetor.imprime()"
      ],
      "metadata": {
        "colab": {
          "base_uri": "https://localhost:8080/"
        },
        "id": "ylYC1Rqyhy80",
        "outputId": "70e53705-2280-4c61-8e62-81452839d8a8"
      },
      "execution_count": 41,
      "outputs": [
        {
          "output_type": "stream",
          "name": "stdout",
          "text": [
            "[0] -> 4\n",
            "[1] -> 7\n",
            "[2] -> 37\n"
          ]
        }
      ]
    },
    {
      "cell_type": "code",
      "source": [
        "vetor.insere(50)\n",
        "vetor.imprime()"
      ],
      "metadata": {
        "colab": {
          "base_uri": "https://localhost:8080/"
        },
        "id": "zdP0AlKxRMTF",
        "outputId": "3dada9cc-fea1-4ca8-f2a5-104ccfa60a6d"
      },
      "execution_count": 42,
      "outputs": [
        {
          "output_type": "stream",
          "name": "stdout",
          "text": [
            "[0] -> 4\n",
            "[1] -> 7\n",
            "[2] -> 37\n",
            "[3] -> 50\n"
          ]
        }
      ]
    },
    {
      "cell_type": "code",
      "source": [
        "vetor.pesquisa_linear(37)"
      ],
      "metadata": {
        "colab": {
          "base_uri": "https://localhost:8080/"
        },
        "id": "AvsKygjyPZzL",
        "outputId": "8ea2d8d1-0937-4f29-81b7-d19cd40e6922"
      },
      "execution_count": 43,
      "outputs": [
        {
          "output_type": "execute_result",
          "data": {
            "text/plain": [
              "2"
            ]
          },
          "metadata": {},
          "execution_count": 43
        }
      ]
    },
    {
      "cell_type": "code",
      "source": [
        "print(vetor.pesquisa_linear(55))"
      ],
      "metadata": {
        "colab": {
          "base_uri": "https://localhost:8080/"
        },
        "id": "alRSOLCTRz3k",
        "outputId": "65acd6ac-27f9-4159-dc14-a3834d0a99ec"
      },
      "execution_count": 44,
      "outputs": [
        {
          "output_type": "stream",
          "name": "stdout",
          "text": [
            "-1\n"
          ]
        }
      ]
    },
    {
      "cell_type": "code",
      "source": [
        "vetor.pesquisa_linear(1212)"
      ],
      "metadata": {
        "colab": {
          "base_uri": "https://localhost:8080/"
        },
        "id": "g4xp7WC1U3SL",
        "outputId": "8661ce9b-5bcf-4dd5-b420-76ee24b9a061"
      },
      "execution_count": 45,
      "outputs": [
        {
          "output_type": "execute_result",
          "data": {
            "text/plain": [
              "-1"
            ]
          },
          "metadata": {},
          "execution_count": 45
        }
      ]
    },
    {
      "cell_type": "code",
      "source": [
        "vetor.pesquisa_binaria(4)"
      ],
      "metadata": {
        "colab": {
          "base_uri": "https://localhost:8080/"
        },
        "id": "aj-AFbcHbjOk",
        "outputId": "37a94d82-cb56-463e-9fab-c19d208b49a7"
      },
      "execution_count": 46,
      "outputs": [
        {
          "output_type": "execute_result",
          "data": {
            "text/plain": [
              "0"
            ]
          },
          "metadata": {},
          "execution_count": 46
        }
      ]
    }
  ]
}